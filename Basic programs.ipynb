{
 "cells": [
  {
   "cell_type": "markdown",
   "id": "def6fa6d",
   "metadata": {},
   "source": [
    "### 1. Write Python Programs to use various operators in Python"
   ]
  },
  {
   "cell_type": "code",
   "execution_count": 1,
   "id": "78bd10ce",
   "metadata": {},
   "outputs": [
    {
     "name": "stdout",
     "output_type": "stream",
     "text": [
      "x + y = 9\n",
      "x - y = 1\n",
      "x * y = 20\n",
      "x / y = 1.25\n",
      "x // y = 1\n",
      "x ** y = 625\n"
     ]
    }
   ],
   "source": [
    "x = 5\n",
    "y = 4\n",
    "\n",
    "# Output: x + y = 9\n",
    "print('x + y =',x+y)\n",
    "\n",
    "# Output: x - y = 1\n",
    "print('x - y =',x-y)\n",
    "\n",
    "# Output: x * y = 20\n",
    "print('x * y =',x*y)\n",
    "\n",
    "# Output: x / y = 1.25\n",
    "print('x / y =',x/y)\n",
    "\n",
    "# Output: x // y = 1\n",
    "print('x // y =',x//y)\n",
    "\n",
    "# Output: x ** y = 625\n",
    "print('x ** y =',x**y)"
   ]
  },
  {
   "cell_type": "markdown",
   "id": "82ebc812",
   "metadata": {},
   "source": [
    "### 2. Create list of elements and slice and dice it"
   ]
  },
  {
   "cell_type": "code",
   "execution_count": 2,
   "id": "43a1e34e",
   "metadata": {},
   "outputs": [
    {
     "name": "stdout",
     "output_type": "stream",
     "text": [
      "[70, 30, 20, 90]\n"
     ]
    }
   ],
   "source": [
    "# Initialize list\n",
    "Lst = [50, 70, 30, 20, 90, 10, 50]\n",
    " \n",
    "# Display list\n",
    "print(Lst[1:5])"
   ]
  },
  {
   "cell_type": "code",
   "execution_count": 3,
   "id": "6fba16a3",
   "metadata": {},
   "outputs": [
    {
     "name": "stdout",
     "output_type": "stream",
     "text": [
      "\n",
      "Original List:\n",
      " [-999, 'G4G', 1706256, 3.1496, '^_^']\n",
      "\n",
      "Sliced Lists: \n",
      "[-999, 'G4G', 'Geeks', 'for', 'Geeks', '!', '^_^']\n",
      "['^_^']\n"
     ]
    }
   ],
   "source": [
    "# Initialize list\n",
    "List = [-999, 'G4G', 1706256, 3.1496, '^_^']\n",
    " \n",
    "# Show original list\n",
    "print(\"\\nOriginal List:\\n\", List)\n",
    " \n",
    " \n",
    "print(\"\\nSliced Lists: \")\n",
    " \n",
    "# Modified List\n",
    "List[2:4] = ['Geeks', 'for', 'Geeks', '!']\n",
    " \n",
    "# Display sliced list\n",
    "print(List)\n",
    " \n",
    "# Modified List\n",
    "List[:6] = []\n",
    " \n",
    "# Display sliced list\n",
    "print(List)"
   ]
  },
  {
   "cell_type": "markdown",
   "id": "7bcb6ac1",
   "metadata": {},
   "source": [
    "### 3. Using while loop accept numbers until sum of numbers is less than 100"
   ]
  },
  {
   "cell_type": "code",
   "execution_count": 9,
   "id": "768e2d81",
   "metadata": {},
   "outputs": [
    {
     "name": "stdout",
     "output_type": "stream",
     "text": [
      "1\n"
     ]
    },
    {
     "ename": "TypeError",
     "evalue": "raw_input() takes from 1 to 2 positional arguments but 3 were given",
     "output_type": "error",
     "traceback": [
      "\u001b[1;31m---------------------------------------------------------------------------\u001b[0m",
      "\u001b[1;31mTypeError\u001b[0m                                 Traceback (most recent call last)",
      "Input \u001b[1;32mIn [9]\u001b[0m, in \u001b[0;36m<cell line: 9>\u001b[1;34m()\u001b[0m\n\u001b[0;32m      6\u001b[0m     i\u001b[38;5;241m+\u001b[39m\u001b[38;5;241m=\u001b[39m\u001b[38;5;241m1\u001b[39m\n\u001b[0;32m      7\u001b[0m     \u001b[38;5;28;01mbreak\u001b[39;00m\n\u001b[1;32m----> 9\u001b[0m no\u001b[38;5;241m=\u001b[39m\u001b[38;5;28mint\u001b[39m(\u001b[38;5;28;43minput\u001b[39;49m\u001b[43m(\u001b[49m\u001b[38;5;124;43m\"\u001b[39;49m\u001b[38;5;124;43mEnter the number:\u001b[39;49m\u001b[38;5;124;43m\"\u001b[39;49m\u001b[43m,\u001b[49m\u001b[38;5;28;43msum\u001b[39;49m\u001b[43m)\u001b[49m)\n",
      "\u001b[1;31mTypeError\u001b[0m: raw_input() takes from 1 to 2 positional arguments but 3 were given"
     ]
    }
   ],
   "source": [
    "sum = 0\n",
    "\n",
    "num = int(input(\"Enter a number: \"))\n",
    "if num < 0:\n",
    "    print(\"Please enter a positive number\")\n",
    "else:\n",
    "    sum = 0\n",
    "\n",
    "# use while loop to iterate until zero\n",
    "while num <= 100:\n",
    "    sum += num\n",
    "    num -= 1\n",
    "print(\"The sum is\", sum)"
   ]
  },
  {
   "cell_type": "markdown",
   "id": "4243264e",
   "metadata": {},
   "source": [
    "### 4. Write a python program Read & write Excel files"
   ]
  },
  {
   "cell_type": "code",
   "execution_count": 5,
   "id": "feec9e99",
   "metadata": {},
   "outputs": [],
   "source": [
    "#!pip install openpyxl"
   ]
  },
  {
   "cell_type": "code",
   "execution_count": 6,
   "id": "bf4b934a",
   "metadata": {},
   "outputs": [
    {
     "ename": "SyntaxError",
     "evalue": "(unicode error) 'unicodeescape' codec can't decode bytes in position 2-3: truncated \\UXXXXXXXX escape (711646620.py, line 13)",
     "output_type": "error",
     "traceback": [
      "\u001b[1;36m  Input \u001b[1;32mIn [6]\u001b[1;36m\u001b[0m\n\u001b[1;33m    my_wb.save(\"C:\\Users\\TP\\Desktop\\Book1.xlsx\")\u001b[0m\n\u001b[1;37m                                               ^\u001b[0m\n\u001b[1;31mSyntaxError\u001b[0m\u001b[1;31m:\u001b[0m (unicode error) 'unicodeescape' codec can't decode bytes in position 2-3: truncated \\UXXXXXXXX escape\n"
     ]
    }
   ],
   "source": [
    "import openpyxl\n",
    "my_wb = openpyxl.Workbook()\n",
    "my_sheet = my_wb.active\n",
    "c1 = my_sheet.cell(row = 1, column = 1)\n",
    "c1.value = \"Aadrika\"\n",
    "c2 = my_sheet.cell(row= 1 , column = 2)\n",
    "c2.value = \"Adwaita\"\n",
    "c3 = my_sheet['A2']\n",
    "c3.value = \"Satyajit\"\n",
    "# B2 = column = 2 & row = 2.\n",
    "c4 = my_sheet['B2']\n",
    "c4.value = \"Bivas\"\n",
    "my_wb.save(\"C:\\Users\\TP\\Desktop\\Book1.xlsx\")"
   ]
  },
  {
   "cell_type": "markdown",
   "id": "bd1b8ddb",
   "metadata": {},
   "source": [
    "### 5. Write a python program to scrape reviews from a commercial web site"
   ]
  },
  {
   "cell_type": "code",
   "execution_count": null,
   "id": "3dea5b5a",
   "metadata": {},
   "outputs": [],
   "source": [
    "x = [1, 2, 3, 4]\n",
    "k = 2\n",
    "x[-2:] + x[:-2]\n",
    "[3, 4, 1, 2]"
   ]
  },
  {
   "cell_type": "markdown",
   "id": "5ed1f443",
   "metadata": {},
   "source": [
    "### 6. Create a 3x3 matrix with values ranging from 2 to 10 using numpy"
   ]
  },
  {
   "cell_type": "code",
   "execution_count": null,
   "id": "30344448",
   "metadata": {},
   "outputs": [],
   "source": [
    "import numpy as np"
   ]
  },
  {
   "cell_type": "code",
   "execution_count": null,
   "id": "c765d88f",
   "metadata": {},
   "outputs": [],
   "source": [
    "x =  np.arange(2, 11).reshape(3,3)\n",
    "print(x)"
   ]
  },
  {
   "cell_type": "markdown",
   "id": "184bcab4",
   "metadata": {},
   "source": [
    "### 7. Write a Python program to convert a list of numeric value into a one-dimensional NumPy array"
   ]
  },
  {
   "cell_type": "code",
   "execution_count": null,
   "id": "3580e79a",
   "metadata": {},
   "outputs": [],
   "source": [
    "l = [12.23, 13.32, 100, 36.32]\n",
    "print(\"Original List:\",l)\n",
    "a = np.array(l)\n",
    "print(\"One-dimensional NumPy array: \",a)"
   ]
  },
  {
   "cell_type": "markdown",
   "id": "ddd2faa5",
   "metadata": {},
   "source": [
    "### 8. \"Write a Python program to create a null vector of size 10 and update sixth value to 11"
   ]
  },
  {
   "cell_type": "code",
   "execution_count": null,
   "id": "65179eec",
   "metadata": {},
   "outputs": [],
   "source": [
    "x = np.zeros(10)\n",
    "print(x)\n",
    "print(\"Update sixth value to 11\")\n",
    "x[6] = 11\n",
    "print(x)"
   ]
  },
  {
   "cell_type": "code",
   "execution_count": null,
   "id": "7f264585",
   "metadata": {},
   "outputs": [],
   "source": []
  }
 ],
 "metadata": {
  "kernelspec": {
   "display_name": "Python 3 (ipykernel)",
   "language": "python",
   "name": "python3"
  },
  "language_info": {
   "codemirror_mode": {
    "name": "ipython",
    "version": 3
   },
   "file_extension": ".py",
   "mimetype": "text/x-python",
   "name": "python",
   "nbconvert_exporter": "python",
   "pygments_lexer": "ipython3",
   "version": "3.9.12"
  }
 },
 "nbformat": 4,
 "nbformat_minor": 5
}
