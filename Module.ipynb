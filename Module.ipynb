{
 "cells": [
  {
   "cell_type": "code",
   "execution_count": 3,
   "id": "dfe994af",
   "metadata": {},
   "outputs": [],
   "source": [
    "from datetime import date"
   ]
  },
  {
   "cell_type": "markdown",
   "id": "bea29d43",
   "metadata": {},
   "source": [
    "### 1. Write a Python program to calculate number of days between two dates. Hint: use Datetime package/module."
   ]
  },
  {
   "cell_type": "code",
   "execution_count": 8,
   "id": "33cb5705",
   "metadata": {},
   "outputs": [
    {
     "name": "stdout",
     "output_type": "stream",
     "text": [
      "9 days\n"
     ]
    }
   ],
   "source": [
    "first_date = date(2014, 7, 2)\n",
    "last_date = date(2014, 7, 11)\n",
    "D = l_date - f_date\n",
    "print(D.days,\"days\")"
   ]
  },
  {
   "cell_type": "code",
   "execution_count": null,
   "id": "a245f51b",
   "metadata": {},
   "outputs": [],
   "source": []
  }
 ],
 "metadata": {
  "kernelspec": {
   "display_name": "Python 3 (ipykernel)",
   "language": "python",
   "name": "python3"
  },
  "language_info": {
   "codemirror_mode": {
    "name": "ipython",
    "version": 3
   },
   "file_extension": ".py",
   "mimetype": "text/x-python",
   "name": "python",
   "nbconvert_exporter": "python",
   "pygments_lexer": "ipython3",
   "version": "3.9.12"
  }
 },
 "nbformat": 4,
 "nbformat_minor": 5
}
